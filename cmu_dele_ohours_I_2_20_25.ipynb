{
  "nbformat": 4,
  "nbformat_minor": 0,
  "metadata": {
    "colab": {
      "provenance": [],
      "gpuType": "T4",
      "include_colab_link": true
    },
    "kernelspec": {
      "name": "python3",
      "display_name": "Python 3"
    },
    "language_info": {
      "name": "python"
    },
    "accelerator": "GPU"
  },
  "cells": [
    {
      "cell_type": "markdown",
      "metadata": {
        "id": "view-in-github",
        "colab_type": "text"
      },
      "source": [
        "<a href=\"https://colab.research.google.com/github/jjlancaster/DocProduct/blob/master/cmu_dele_ohours_I_2_20_25.ipynb\" target=\"_parent\"><img src=\"https://colab.research.google.com/assets/colab-badge.svg\" alt=\"Open In Colab\"/></a>"
      ]
    },
    {
      "cell_type": "markdown",
      "source": [
        "### Office Hours\n",
        "\n",
        "\n",
        "\n",
        "1.   Notebooks and Installations\n",
        "2.   NumPy basics\n",
        "3.   PyTorch intro\n",
        "4.   Object Oriented Programming\n",
        "5. Have fun\n",
        "\n",
        "\n",
        "\n"
      ],
      "metadata": {
        "id": "AO9OHQ8e4a_F"
      }
    },
    {
      "cell_type": "code",
      "source": [
        "!python --version"
      ],
      "metadata": {
        "id": "k98waF4iQPWu",
        "colab": {
          "base_uri": "https://localhost:8080/"
        },
        "outputId": "ac08c2a1-e6e1-4dd3-aadc-af1114493090"
      },
      "execution_count": 1,
      "outputs": [
        {
          "output_type": "stream",
          "name": "stdout",
          "text": [
            "Python 3.11.11\n"
          ]
        }
      ]
    },
    {
      "cell_type": "code",
      "source": [
        "# pip install torch numpy torchvision matplotlib"
      ],
      "metadata": {
        "id": "dLhdDCTC7c2X"
      },
      "execution_count": null,
      "outputs": []
    },
    {
      "cell_type": "code",
      "source": [
        "import numpy as np\n",
        "import torch\n",
        "from torchvision import datasets\n",
        "import matplotlib.pyplot as plt"
      ],
      "metadata": {
        "id": "mTL8cUXg5BcS"
      },
      "execution_count": 2,
      "outputs": []
    },
    {
      "cell_type": "markdown",
      "source": [
        "#### Jupyter Notebooks\n",
        "\n",
        "Typically, we will use the google version of notebooks in colab.  You can also work locally by downloading and installing jupyter.  One way to do this is to use the Anaconda distribution freely available [here](https://www.anaconda.com/products/distribution)."
      ],
      "metadata": {
        "id": "HUGetIAi5bOg"
      }
    },
    {
      "cell_type": "markdown",
      "source": [
        "Inline LaTeX: `$\\sum_{i = 0}^n i$` -- $\\sum_{i = 0}^n i$\n",
        "\n",
        "Centered LaTeX: `$$\\sum_{i = 0}^n i$$` -- $$\\sum_{i = 0}^n i$$"
      ],
      "metadata": {
        "id": "chIiNTcXwTN1"
      }
    },
    {
      "cell_type": "code",
      "source": [
        "%%latex\n",
        "\\sum_{i=0}^n i"
      ],
      "metadata": {
        "id": "3tnAGhXPwqIL"
      },
      "execution_count": null,
      "outputs": []
    },
    {
      "cell_type": "code",
      "source": [
        "X = [0, 1, 2]"
      ],
      "metadata": {
        "id": "hfTvQjRy6VT3"
      },
      "execution_count": null,
      "outputs": []
    },
    {
      "cell_type": "code",
      "source": [
        "X**2"
      ],
      "metadata": {
        "id": "V_S2sqahxi8p"
      },
      "execution_count": null,
      "outputs": []
    },
    {
      "cell_type": "code",
      "source": [
        "#square each value\n",
        "[i**2 for i in X]"
      ],
      "metadata": {
        "id": "-94GUwMlRhbE"
      },
      "execution_count": null,
      "outputs": []
    },
    {
      "cell_type": "markdown",
      "source": [
        "#### NumPy Arrays\n",
        "\n"
      ],
      "metadata": {
        "id": "N0QoH2M86VQ_"
      }
    },
    {
      "cell_type": "code",
      "source": [
        "np.array?"
      ],
      "metadata": {
        "id": "rZSEFtvZPovZ"
      },
      "execution_count": null,
      "outputs": []
    },
    {
      "cell_type": "code",
      "source": [
        "#create an array\n",
        "X1 = np.array(X)\n",
        "type(X1)"
      ],
      "metadata": {
        "id": "MNkAuYJe6ZYf"
      },
      "execution_count": null,
      "outputs": []
    },
    {
      "cell_type": "code",
      "source": [
        "#mathematical operations\n",
        "X1**2"
      ],
      "metadata": {
        "id": "it593BYU6cNj"
      },
      "execution_count": null,
      "outputs": []
    },
    {
      "cell_type": "code",
      "source": [
        "print(X1.shape)"
      ],
      "metadata": {
        "id": "SirBEmKQE0wS"
      },
      "execution_count": null,
      "outputs": []
    },
    {
      "cell_type": "code",
      "source": [
        "#reshaping\n",
        "X1.reshape(3, 1)"
      ],
      "metadata": {
        "id": "CWkTOe-N6h9o"
      },
      "execution_count": null,
      "outputs": []
    },
    {
      "cell_type": "code",
      "source": [
        "X1"
      ],
      "metadata": {
        "id": "Xh5oP7oUyQsB"
      },
      "execution_count": null,
      "outputs": []
    },
    {
      "cell_type": "code",
      "source": [
        "X1[2]"
      ],
      "metadata": {
        "id": "4qKiIZxnyfWA"
      },
      "execution_count": null,
      "outputs": []
    },
    {
      "cell_type": "code",
      "source": [
        "#accessing elements\n",
        "X1[:2]"
      ],
      "metadata": {
        "id": "74Iu-o2d6jQ8"
      },
      "execution_count": null,
      "outputs": []
    },
    {
      "cell_type": "code",
      "source": [
        "X = np.random.normal(size = (10, 2))\n",
        "X"
      ],
      "metadata": {
        "id": "mQM5OqtMyuTP"
      },
      "execution_count": null,
      "outputs": []
    },
    {
      "cell_type": "code",
      "source": [
        "\n",
        "X.shape"
      ],
      "metadata": {
        "id": "XKgBNk8jmEiD"
      },
      "execution_count": null,
      "outputs": []
    },
    {
      "cell_type": "code",
      "source": [
        "X[0] #first row"
      ],
      "metadata": {
        "id": "zfcxO44VyuPI"
      },
      "execution_count": null,
      "outputs": []
    },
    {
      "cell_type": "code",
      "source": [
        "X[0][0]"
      ],
      "metadata": {
        "id": "MpqQhchgyuLi"
      },
      "execution_count": null,
      "outputs": []
    },
    {
      "cell_type": "code",
      "source": [
        "X[4:7]"
      ],
      "metadata": {
        "id": "UuLJXvd7y_HH"
      },
      "execution_count": null,
      "outputs": []
    },
    {
      "cell_type": "code",
      "source": [
        "X[:2, :2] #row, column"
      ],
      "metadata": {
        "id": "f6SEJORBzVof"
      },
      "execution_count": null,
      "outputs": []
    },
    {
      "cell_type": "code",
      "source": [
        "#arrays as images\n",
        "X = np.random.normal(size = (5, 4))\n",
        "plt.imshow(X, cmap = 'gray')"
      ],
      "metadata": {
        "id": "_ecJN1Eh6rlC"
      },
      "execution_count": null,
      "outputs": []
    },
    {
      "cell_type": "code",
      "source": [
        "#ones\n",
        "np.ones(shape = (6, 3))"
      ],
      "metadata": {
        "id": "euIwJdwe8DYa"
      },
      "execution_count": null,
      "outputs": []
    },
    {
      "cell_type": "code",
      "source": [
        "#zeros\n",
        "np.zeros(shape = (3, 2))"
      ],
      "metadata": {
        "id": "JR5nHv3c8Ev0"
      },
      "execution_count": null,
      "outputs": []
    },
    {
      "cell_type": "code",
      "source": [
        "#random values\n",
        "np.random.binomial(n = 20, p = 0.5, size = (3, 2))"
      ],
      "metadata": {
        "id": "eztwcl9E8FwF"
      },
      "execution_count": null,
      "outputs": []
    },
    {
      "cell_type": "code",
      "source": [
        "#sequences -- start, stop, step size\n",
        "np.arange(-1, 3.5, .5)"
      ],
      "metadata": {
        "id": "t6h6eA-v8I98"
      },
      "execution_count": null,
      "outputs": []
    },
    {
      "cell_type": "code",
      "source": [
        "np.linspace(-1, 3, 11)"
      ],
      "metadata": {
        "id": "ExyD2rmpz8j5"
      },
      "execution_count": null,
      "outputs": []
    },
    {
      "cell_type": "code",
      "source": [
        "#identity\n",
        "np.eye(N = 10)"
      ],
      "metadata": {
        "id": "eXjZMOVOTuab"
      },
      "execution_count": null,
      "outputs": []
    },
    {
      "cell_type": "markdown",
      "source": [
        "#### Combining arrays"
      ],
      "metadata": {
        "id": "Jn9tvPLf_2dj"
      }
    },
    {
      "cell_type": "code",
      "source": [
        "#concatenate\n",
        "X1 = np.random.randint(low = 10, high = 20, size = (3, 1))\n",
        "X2 = np.random.randint(low = 10, high = 20, size = (3, 2))\n"
      ],
      "metadata": {
        "id": "fK-4VxtU_58y"
      },
      "execution_count": null,
      "outputs": []
    },
    {
      "cell_type": "code",
      "source": [
        "#X1\n",
        "X1"
      ],
      "metadata": {
        "id": "878oAellUH8h"
      },
      "execution_count": null,
      "outputs": []
    },
    {
      "cell_type": "code",
      "source": [
        "#X2\n",
        "X2"
      ],
      "metadata": {
        "id": "FEr50pzOUJKj"
      },
      "execution_count": null,
      "outputs": []
    },
    {
      "cell_type": "code",
      "source": [
        "#concatenate\n",
        "np.concatenate((X1, X2), axis = 1)"
      ],
      "metadata": {
        "id": "kL09xrTtUKrN"
      },
      "execution_count": null,
      "outputs": []
    },
    {
      "cell_type": "markdown",
      "source": [
        "#### Transpose, Multiply, Inverse\n",
        "\n"
      ],
      "metadata": {
        "id": "JrSRVkj3hrXN"
      }
    },
    {
      "cell_type": "code",
      "source": [
        "#LINEAR ALGEBRA\n",
        "X1.shape"
      ],
      "metadata": {
        "id": "i-o9hh7gHh75"
      },
      "execution_count": null,
      "outputs": []
    },
    {
      "cell_type": "code",
      "source": [
        "X1, X1.T #swap rows and columns"
      ],
      "metadata": {
        "id": "jlpQkivchz3e"
      },
      "execution_count": null,
      "outputs": []
    },
    {
      "cell_type": "code",
      "source": [
        "np.transpose(X1)"
      ],
      "metadata": {
        "id": "CKo26wrQvqxk"
      },
      "execution_count": null,
      "outputs": []
    },
    {
      "cell_type": "code",
      "source": [
        "np.transpose(   )"
      ],
      "metadata": {
        "id": "WtkFwiGgwLev"
      },
      "execution_count": null,
      "outputs": []
    },
    {
      "cell_type": "code",
      "source": [
        "X1.T.shape"
      ],
      "metadata": {
        "id": "I6Kc7vKGHh24"
      },
      "execution_count": null,
      "outputs": []
    },
    {
      "cell_type": "markdown",
      "source": [
        "#### Matrix Multiplication\n",
        "\n",
        "$$\\begin{bmatrix}\n",
        "x_{11} & x_{12} & x_{13}\\\\\n",
        "x_{21} & x_{22} & x_{23}\n",
        "\\end{bmatrix} \\times \\begin{bmatrix} y_1 \\\\ y_2 \\\\ y_3 \\end{bmatrix} = \\begin{bmatrix} x_{11}*y_1 + x_{12}*y_2 + x_{13}*y_3 \\\\ x_{21}*y_1 + x_{22} * y_2 + x_{23} * y_3 \\end{bmatrix}$$"
      ],
      "metadata": {
        "id": "XIY1tIYyh5RC"
      }
    },
    {
      "cell_type": "code",
      "source": [
        "X3 = np.ones(shape = (3, 10))"
      ],
      "metadata": {
        "id": "4PJlGeopHhy4"
      },
      "execution_count": null,
      "outputs": []
    },
    {
      "cell_type": "code",
      "source": [
        "X1.T.shape"
      ],
      "metadata": {
        "id": "6dCQ_OO2wyxm"
      },
      "execution_count": null,
      "outputs": []
    },
    {
      "cell_type": "code",
      "source": [
        "#multiply\n",
        "(X1.T@X3).shape"
      ],
      "metadata": {
        "id": "RSEno-xKHhu7"
      },
      "execution_count": null,
      "outputs": []
    },
    {
      "cell_type": "code",
      "source": [
        "X1.T@X3"
      ],
      "metadata": {
        "id": "mKf1Qpz0k89F"
      },
      "execution_count": null,
      "outputs": []
    },
    {
      "cell_type": "code",
      "source": [
        "# np.linalg.\n",
        "np.matmul(X1.T, X3)"
      ],
      "metadata": {
        "id": "1Yx4BjkgHhr5"
      },
      "execution_count": null,
      "outputs": []
    },
    {
      "cell_type": "code",
      "source": [
        "np.dot(X1.T, X3)"
      ],
      "metadata": {
        "id": "3k1MI94QxFia"
      },
      "execution_count": null,
      "outputs": []
    },
    {
      "cell_type": "code",
      "source": [
        "np.linalg.inv(X1.T@X1)"
      ],
      "metadata": {
        "id": "_Iy9QeO7xQ9I"
      },
      "execution_count": null,
      "outputs": []
    },
    {
      "cell_type": "markdown",
      "source": [
        "### Gradients\n",
        "\n",
        "$$f'(x) = \\frac{f(x + h) - f(x)}{h}$$\n",
        "\n",
        "as $h \\to 0$."
      ],
      "metadata": {
        "id": "u20h_DiLo5pj"
      }
    },
    {
      "cell_type": "code",
      "source": [
        "def f(x):\n",
        "  return 2*x"
      ],
      "metadata": {
        "id": "iRSaYwcCo5U-"
      },
      "execution_count": null,
      "outputs": []
    },
    {
      "cell_type": "code",
      "source": [
        "x = np.arange(0, 10, 1)\n",
        "x"
      ],
      "metadata": {
        "id": "lnWZ8dHBo5Qj"
      },
      "execution_count": null,
      "outputs": []
    },
    {
      "cell_type": "code",
      "source": [
        "f(x)"
      ],
      "metadata": {
        "id": "F34Lhd81IiMB"
      },
      "execution_count": null,
      "outputs": []
    },
    {
      "cell_type": "code",
      "source": [
        "np.gradient(f(x))"
      ],
      "metadata": {
        "id": "0C0W215vo5Mp"
      },
      "execution_count": null,
      "outputs": []
    },
    {
      "cell_type": "code",
      "source": [
        "def f(x):\n",
        "  return x**2"
      ],
      "metadata": {
        "id": "AurM4Gcto5Jx"
      },
      "execution_count": null,
      "outputs": []
    },
    {
      "cell_type": "code",
      "source": [
        "f(x)"
      ],
      "metadata": {
        "id": "um_SOZGOjKvH"
      },
      "execution_count": null,
      "outputs": []
    },
    {
      "cell_type": "code",
      "source": [
        "np.gradient(f(x))"
      ],
      "metadata": {
        "id": "9gifRbBTo5E1"
      },
      "execution_count": null,
      "outputs": []
    },
    {
      "cell_type": "code",
      "source": [
        "np.gradient([20, 24, 18, 24, 35, 46])"
      ],
      "metadata": {
        "id": "5bQMmMX4pknb"
      },
      "execution_count": null,
      "outputs": []
    },
    {
      "cell_type": "code",
      "source": [
        "np.gradient?"
      ],
      "metadata": {
        "id": "aF6gRNqBpaRE"
      },
      "execution_count": null,
      "outputs": []
    },
    {
      "cell_type": "code",
      "source": [
        "y = f(x)\n",
        "(y[1] - y[0]) / 1"
      ],
      "metadata": {
        "id": "uXRO8tRV4rEY"
      },
      "execution_count": null,
      "outputs": []
    },
    {
      "cell_type": "code",
      "source": [
        "(y[2] - y[0]) / 2"
      ],
      "metadata": {
        "id": "07DfSnxX4rAN"
      },
      "execution_count": null,
      "outputs": []
    },
    {
      "cell_type": "code",
      "source": [
        "(y[3] - y[1]) / 2"
      ],
      "metadata": {
        "id": "NolSrcUK5GPt"
      },
      "execution_count": null,
      "outputs": []
    },
    {
      "cell_type": "markdown",
      "source": [
        "### PyTorch Tensors"
      ],
      "metadata": {
        "id": "zYB-l33z7tPx"
      }
    },
    {
      "cell_type": "code",
      "source": [
        "#create a tensor\n",
        "X = torch.tensor([1, 2, 3])\n",
        "X"
      ],
      "metadata": {
        "id": "GsxN4CeT7wF7"
      },
      "execution_count": null,
      "outputs": []
    },
    {
      "cell_type": "code",
      "source": [
        "#from an array -- method 1\n",
        "X = torch.tensor(X1)\n",
        "X"
      ],
      "metadata": {
        "id": "TnNr7TKP74t1"
      },
      "execution_count": null,
      "outputs": []
    },
    {
      "cell_type": "code",
      "source": [],
      "metadata": {
        "id": "lLEn-__1Iek4"
      },
      "execution_count": null,
      "outputs": []
    },
    {
      "cell_type": "code",
      "source": [
        "#from an array -- method 2\n",
        "torch.from_numpy(X1)"
      ],
      "metadata": {
        "id": "iBs0vQI382Dk"
      },
      "execution_count": null,
      "outputs": []
    },
    {
      "cell_type": "code",
      "source": [
        "#checking the device\n",
        "X.device"
      ],
      "metadata": {
        "id": "MbG0qymX75sx"
      },
      "execution_count": null,
      "outputs": []
    },
    {
      "cell_type": "code",
      "source": [
        "#checking datatypes\n",
        "X.dtype"
      ],
      "metadata": {
        "id": "9wbFwNK28W27"
      },
      "execution_count": null,
      "outputs": []
    },
    {
      "cell_type": "code",
      "source": [
        "#from tensor to numpy array\n",
        "np.array(X1)"
      ],
      "metadata": {
        "id": "XPmB4V8f8XcS"
      },
      "execution_count": null,
      "outputs": []
    },
    {
      "cell_type": "markdown",
      "source": [
        "#### Moving Objects to GPU or CPU"
      ],
      "metadata": {
        "id": "CZlr2M3a9O7E"
      }
    },
    {
      "cell_type": "code",
      "source": [
        "torch.cuda.is_available()"
      ],
      "metadata": {
        "id": "OMenEPnx2B8R"
      },
      "execution_count": null,
      "outputs": []
    },
    {
      "cell_type": "code",
      "source": [
        "#device specification\n",
        "device = \"cuda\" if torch.cuda.is_available() else \"cpu\"\n",
        "device"
      ],
      "metadata": {
        "id": "RnmqarPg9dBA"
      },
      "execution_count": null,
      "outputs": []
    },
    {
      "cell_type": "code",
      "source": [
        "#create a tensor\n",
        "X = torch.randint(low = 2, high = 10, size = (4, 3, 2))\n",
        "X"
      ],
      "metadata": {
        "id": "F-boexvH9gmO"
      },
      "execution_count": null,
      "outputs": []
    },
    {
      "cell_type": "code",
      "source": [
        "X.device"
      ],
      "metadata": {
        "id": "0GCx9CK23J4x"
      },
      "execution_count": null,
      "outputs": []
    },
    {
      "cell_type": "code",
      "source": [
        "#push data to device\n",
        "X = X.to(device)"
      ],
      "metadata": {
        "id": "_yYEiY_C9ibA"
      },
      "execution_count": null,
      "outputs": []
    },
    {
      "cell_type": "code",
      "source": [
        "#check the device\n",
        "X.device"
      ],
      "metadata": {
        "id": "wi7YAklQXcpg"
      },
      "execution_count": null,
      "outputs": []
    },
    {
      "cell_type": "code",
      "source": [
        "torch.ones(size = X.shape).to(device)*X"
      ],
      "metadata": {
        "id": "qMmUowypLgJT"
      },
      "execution_count": null,
      "outputs": []
    },
    {
      "cell_type": "markdown",
      "source": [
        "#### Indexing and Reshaping Tensors"
      ],
      "metadata": {
        "id": "BfbL4FI49ltV"
      }
    },
    {
      "cell_type": "code",
      "source": [
        "X1 = torch.rand(size = (3, 10))\n",
        "X2 = torch.rand(size = (10, 2))\n",
        "X1@X2"
      ],
      "metadata": {
        "id": "Zv0QFBuZdoQ0"
      },
      "execution_count": null,
      "outputs": []
    },
    {
      "cell_type": "code",
      "source": [
        "#create a tensor\n",
        "X = torch.rand(size = (4, 3, 2))"
      ],
      "metadata": {
        "id": "7pl_dBV5-ELH"
      },
      "execution_count": null,
      "outputs": []
    },
    {
      "cell_type": "code",
      "source": [
        "X"
      ],
      "metadata": {
        "id": "Fd239j1aYHro"
      },
      "execution_count": null,
      "outputs": []
    },
    {
      "cell_type": "code",
      "source": [
        "#flatten it\n",
        "X.flatten()#.shape"
      ],
      "metadata": {
        "id": "3odFaev798IF"
      },
      "execution_count": null,
      "outputs": []
    },
    {
      "cell_type": "code",
      "source": [
        "#unsqueeze\n",
        "X.unsqueeze(dim = 3).shape"
      ],
      "metadata": {
        "id": "-HKDlvED99C-"
      },
      "execution_count": null,
      "outputs": []
    },
    {
      "cell_type": "code",
      "source": [
        "#squeeze\n",
        "X.unsqueeze(dim = 3).squeeze().shape"
      ],
      "metadata": {
        "id": "A30YpWn7-N3n"
      },
      "execution_count": null,
      "outputs": []
    },
    {
      "cell_type": "code",
      "source": [
        "#reshape\n",
        "X.reshape(2, 12)"
      ],
      "metadata": {
        "id": "I1OAo8gC-O-d"
      },
      "execution_count": null,
      "outputs": []
    },
    {
      "cell_type": "markdown",
      "source": [
        "#### Combining Tensors"
      ],
      "metadata": {
        "id": "5nR2sHdg-fLO"
      }
    },
    {
      "cell_type": "code",
      "source": [
        "#concatenate\n",
        "torch.cat((X, X), dim = 1).shape"
      ],
      "metadata": {
        "id": "ZHE_pqMoAAeW"
      },
      "execution_count": null,
      "outputs": []
    },
    {
      "cell_type": "code",
      "source": [
        "#aggregate\n",
        "X.mean(dim = 1)"
      ],
      "metadata": {
        "id": "FAAxntrhADCQ"
      },
      "execution_count": null,
      "outputs": []
    },
    {
      "cell_type": "markdown",
      "source": [
        "#### Mathematical Operations"
      ],
      "metadata": {
        "id": "zslc88j-BsWE"
      }
    },
    {
      "cell_type": "code",
      "source": [
        "#multiplication by scalar\n",
        "A = torch.tensor([1, 2, 4])\n",
        "B = torch.tensor([[3], [4], [5]])"
      ],
      "metadata": {
        "id": "6IDi66cHB4hd"
      },
      "execution_count": null,
      "outputs": []
    },
    {
      "cell_type": "code",
      "source": [
        "#multiplying tensors\n",
        "A*2"
      ],
      "metadata": {
        "id": "bUQymA11B6V1"
      },
      "execution_count": null,
      "outputs": []
    },
    {
      "cell_type": "code",
      "source": [
        "#matrix multiplication\n",
        "A@B #np.matmul same as np.dot\n",
        "# torch.ones(10)\n",
        "torch.matmul(A, B)"
      ],
      "metadata": {
        "id": "i11k7OsTB7zA"
      },
      "execution_count": null,
      "outputs": []
    },
    {
      "cell_type": "code",
      "source": [
        "torch.ones(2)"
      ],
      "metadata": {
        "id": "Lh5jXptLypKf"
      },
      "execution_count": null,
      "outputs": []
    },
    {
      "cell_type": "code",
      "source": [
        "mat = torch.ones(2, requires_grad = True)"
      ],
      "metadata": {
        "id": "2236YYXJypEx"
      },
      "execution_count": null,
      "outputs": []
    },
    {
      "cell_type": "code",
      "source": [
        "A = mat*2"
      ],
      "metadata": {
        "id": "k9SlKl9rypAe"
      },
      "execution_count": null,
      "outputs": []
    },
    {
      "cell_type": "code",
      "source": [
        "print(mat.grad)"
      ],
      "metadata": {
        "id": "5ajXtph-yo7Z"
      },
      "execution_count": null,
      "outputs": []
    },
    {
      "cell_type": "code",
      "source": [
        "A.backward(torch.ones(2))"
      ],
      "metadata": {
        "id": "GiDR5FWH0I7X"
      },
      "execution_count": null,
      "outputs": []
    },
    {
      "cell_type": "code",
      "source": [
        "mat.grad"
      ],
      "metadata": {
        "id": "gvzM1AnE05-K"
      },
      "execution_count": null,
      "outputs": []
    },
    {
      "cell_type": "code",
      "source": [
        "x = torch.tensor([1., 2., 3.], requires_grad = True)\n",
        "y = torch.tensor([1., 2., 3.], requires_grad = True)"
      ],
      "metadata": {
        "id": "_-f2S5XZ0-kf"
      },
      "execution_count": null,
      "outputs": []
    },
    {
      "cell_type": "markdown",
      "source": [
        "$$F = 3x^4 - 2y^2$$"
      ],
      "metadata": {
        "id": "fTKJTgks1-si"
      }
    },
    {
      "cell_type": "code",
      "source": [
        "x.grad"
      ],
      "metadata": {
        "id": "wByEzdGo4PZk"
      },
      "execution_count": null,
      "outputs": []
    },
    {
      "cell_type": "code",
      "source": [
        "F = 3*x**4 - 2*y**2"
      ],
      "metadata": {
        "id": "gFqfe6QZ1eBc"
      },
      "execution_count": null,
      "outputs": []
    },
    {
      "cell_type": "code",
      "source": [
        "F"
      ],
      "metadata": {
        "id": "II_uwFyo37aX"
      },
      "execution_count": null,
      "outputs": []
    },
    {
      "cell_type": "code",
      "source": [
        "F.shape"
      ],
      "metadata": {
        "id": "XgHcxiq91d8g"
      },
      "execution_count": null,
      "outputs": []
    },
    {
      "cell_type": "code",
      "source": [
        "grad = torch.ones(3)"
      ],
      "metadata": {
        "id": "oqCd6pI31lgF"
      },
      "execution_count": null,
      "outputs": []
    },
    {
      "cell_type": "code",
      "source": [
        "F.backward(grad)"
      ],
      "metadata": {
        "id": "Vm8UxyhA1lbJ"
      },
      "execution_count": null,
      "outputs": []
    },
    {
      "cell_type": "markdown",
      "source": [
        "$$\\frac{\\partial{f}}{\\partial{x}} = 12x^3$$\n",
        "\n",
        "$$\\frac{\\partial{f}}{\\partial{y}} = -4y$$"
      ],
      "metadata": {
        "id": "yHLwCJJr2E44"
      }
    },
    {
      "cell_type": "code",
      "source": [
        "x.grad"
      ],
      "metadata": {
        "id": "5WkIYq3K1lV6"
      },
      "execution_count": null,
      "outputs": []
    },
    {
      "cell_type": "code",
      "source": [
        "x.grad == 12*x**3"
      ],
      "metadata": {
        "id": "UGr_vs2K2diM"
      },
      "execution_count": null,
      "outputs": []
    },
    {
      "cell_type": "code",
      "source": [
        "y.grad"
      ],
      "metadata": {
        "id": "4avf876L0-RP"
      },
      "execution_count": null,
      "outputs": []
    },
    {
      "cell_type": "code",
      "source": [
        "y.grad == -4*y"
      ],
      "metadata": {
        "id": "6PS752fT19hy"
      },
      "execution_count": null,
      "outputs": []
    },
    {
      "cell_type": "markdown",
      "source": [
        "#### Objects and Classes"
      ],
      "metadata": {
        "id": "zwXw8dWNB-tK"
      }
    },
    {
      "cell_type": "code",
      "source": [
        "#a basic class with __init__ method\n",
        "class Animal:\n",
        "  def __init__(self, name, weight, species):\n",
        "    self.name = name\n",
        "    self.weight = weight\n",
        "    self.species = species\n",
        "\n",
        "  def greeting(self):\n",
        "    print(f'Hi, my name is {self.name} and I am a {self.species}')"
      ],
      "metadata": {
        "id": "UNmI_blxCFH5"
      },
      "execution_count": null,
      "outputs": []
    },
    {
      "cell_type": "code",
      "source": [
        "#instantiate\n",
        "animal_1 = Animal(name = 'Lenny',\n",
        "                  weight = 50,\n",
        "                  species = 'dog')"
      ],
      "metadata": {
        "id": "XruUxbUjaM1B"
      },
      "execution_count": null,
      "outputs": []
    },
    {
      "cell_type": "code",
      "source": [
        "animal_1.weight"
      ],
      "metadata": {
        "id": "eDDGRtBEa3pN"
      },
      "execution_count": null,
      "outputs": []
    },
    {
      "cell_type": "code",
      "source": [
        "animal_2 = Animal(name = 'Hardy',\n",
        "                  weight = 70,\n",
        "                  species = 'dog')"
      ],
      "metadata": {
        "id": "7v2hVq9LbGvq"
      },
      "execution_count": null,
      "outputs": []
    },
    {
      "cell_type": "code",
      "source": [
        "animal_2.name"
      ],
      "metadata": {
        "id": "JPoGJ5BmCHn6"
      },
      "execution_count": null,
      "outputs": []
    },
    {
      "cell_type": "code",
      "source": [
        "animal_1.greeting()"
      ],
      "metadata": {
        "id": "woQZfeLQC0FG"
      },
      "execution_count": null,
      "outputs": []
    },
    {
      "cell_type": "code",
      "source": [
        "animal_2.greeting()"
      ],
      "metadata": {
        "id": "jZjkXZ2EbaDC"
      },
      "execution_count": null,
      "outputs": []
    },
    {
      "cell_type": "code",
      "source": [
        "class Dog(Animal):\n",
        "  def __init__(self, name, weight, species, breed):\n",
        "    super().__init__(name, weight, species)\n",
        "    self.breed = breed\n",
        "\n",
        "  def run(self):\n",
        "    return 'here I go'"
      ],
      "metadata": {
        "id": "SRx35E5bKMnK"
      },
      "execution_count": null,
      "outputs": []
    },
    {
      "cell_type": "code",
      "source": [
        "d1 = Dog(name = 'Lenny', weight = 50, species = 'dog', breed = 'mut')"
      ],
      "metadata": {
        "id": "KWiB6s3dKp_W"
      },
      "execution_count": null,
      "outputs": []
    },
    {
      "cell_type": "code",
      "source": [
        "d1.greeting()"
      ],
      "metadata": {
        "id": "NRi0HoTEKrie"
      },
      "execution_count": null,
      "outputs": []
    },
    {
      "cell_type": "code",
      "source": [
        "d1.run()"
      ],
      "metadata": {
        "id": "B1eu9TyXK3fB"
      },
      "execution_count": null,
      "outputs": []
    },
    {
      "cell_type": "code",
      "source": [
        "d1.name"
      ],
      "metadata": {
        "id": "AHXvBl9pK5Kv"
      },
      "execution_count": null,
      "outputs": []
    },
    {
      "cell_type": "code",
      "source": [
        "d1.breed"
      ],
      "metadata": {
        "id": "IsZAAiMDLdU0"
      },
      "execution_count": null,
      "outputs": []
    },
    {
      "cell_type": "markdown",
      "source": [
        "#### Datasets from `pytorch`\n",
        "\n",
        "Full list of datasets in `torchvision` [here](https://pytorch.org/vision/stable/datasets.html)."
      ],
      "metadata": {
        "id": "QCZxbKMfLe6-"
      }
    },
    {
      "cell_type": "code",
      "source": [
        "flowers = datasets.Flowers102(download = True, root = '.')"
      ],
      "metadata": {
        "id": "aO9aH1r5oJJo"
      },
      "execution_count": null,
      "outputs": []
    },
    {
      "cell_type": "code",
      "source": [
        "flowers[0]"
      ],
      "metadata": {
        "id": "P-GfRGFaoU-a"
      },
      "execution_count": null,
      "outputs": []
    },
    {
      "cell_type": "code",
      "source": [
        "plt.imshow(flowers[0][0])"
      ],
      "metadata": {
        "id": "Tr9WAqJloyjB"
      },
      "execution_count": null,
      "outputs": []
    },
    {
      "cell_type": "code",
      "source": [
        "plt.imshow(flowers[10][0])"
      ],
      "metadata": {
        "id": "yaBmEVVmpJ1a"
      },
      "execution_count": null,
      "outputs": []
    },
    {
      "cell_type": "code",
      "source": [],
      "metadata": {
        "id": "9ERBUzVw59Nc"
      },
      "execution_count": null,
      "outputs": []
    }
  ]
}